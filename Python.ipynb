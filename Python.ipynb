{
  "nbformat": 4,
  "nbformat_minor": 0,
  "metadata": {
    "colab": {
      "provenance": [],
      "authorship_tag": "ABX9TyNUAlo7VIHXoljzX8zpbInG",
      "include_colab_link": true
    },
    "kernelspec": {
      "name": "python3",
      "display_name": "Python 3"
    },
    "language_info": {
      "name": "python"
    }
  },
  "cells": [
    {
      "cell_type": "markdown",
      "metadata": {
        "id": "view-in-github",
        "colab_type": "text"
      },
      "source": [
        "<a href=\"https://colab.research.google.com/github/bsshreesha/Python-SQL-Assignment/blob/main/Python.ipynb\" target=\"_parent\"><img src=\"https://colab.research.google.com/assets/colab-badge.svg\" alt=\"Open In Colab\"/></a>"
      ]
    },
    {
      "cell_type": "markdown",
      "source": [
        "# Introduction to Python\n",
        "\n",
        "Python is a versatile and widely-used programming language known for its simplicity and readability. It was created by **Guido Von Rossum** and first released in *1991*. Python is used in a variety of applications, including web development, data analysis, artificial intelligence, and more.\n",
        "\n",
        "## Key Features of Python\n",
        "\n",
        "- **Easy to Read and Write**: Python's syntax is designed to be intuitive and easy to understand.\n",
        "- **Versatile**: It can be used for various tasks, from simple scripts to complex applications.\n",
        "- **Interpreted Language**: Python code is executed line by line, which makes debugging easier.\n",
        "- **Extensive Libraries**: Python has a rich ecosystem of libraries and frameworks that support various tasks.\n",
        "- **Community Support**: Python has a large and active community, which means plenty of resources and help are available.\n",
        "\n",
        "## Input and Output functions in python\n",
        "\n",
        "```python\n",
        "Input function: input()\n",
        "Output function: print()\n",
        "```\n",
        "Some examples are in the below cell"
      ],
      "metadata": {
        "id": "EaF9hApMj_XB"
      }
    },
    {
      "cell_type": "code",
      "execution_count": null,
      "metadata": {
        "colab": {
          "base_uri": "https://localhost:8080/"
        },
        "id": "QJuD2pOBjhaJ",
        "outputId": "f393a9b2-ec94-49a0-ba46-c86b9f11ffc2"
      },
      "outputs": [
        {
          "output_type": "stream",
          "name": "stdout",
          "text": [
            "Hello World\n"
          ]
        }
      ],
      "source": [
        "print(\"Hello World\") # Shortcut: Use Shift + Enter to run the cell"
      ]
    },
    {
      "cell_type": "code",
      "source": [
        "input('Enter your name: ')"
      ],
      "metadata": {
        "colab": {
          "base_uri": "https://localhost:8080/",
          "height": 53
        },
        "id": "4FKMU7d0lKdN",
        "outputId": "b508940f-3cbb-48b1-a44e-46f57b4104a6"
      },
      "execution_count": null,
      "outputs": [
        {
          "name": "stdout",
          "output_type": "stream",
          "text": [
            "Enter your name: B S Shreesha\n"
          ]
        },
        {
          "output_type": "execute_result",
          "data": {
            "text/plain": [
              "'B S Shreesha'"
            ],
            "application/vnd.google.colaboratory.intrinsic+json": {
              "type": "string"
            }
          },
          "metadata": {},
          "execution_count": 2
        }
      ]
    },
    {
      "cell_type": "markdown",
      "source": [
        "# Variables in Python\n",
        "\n",
        "Variables are used to store data in a program. In Python, a variable is created when you assign a value to it using the assignment operator `=`. Variables are containers for storing data values and can hold different types of data, such as integers, floats, strings, and more.\n",
        "\n",
        "## Creating Variables\n",
        "\n",
        "To create a variable in Python, you simply assign a value to a name. The name of the variable is on the left side of the assignment operator, and the value is on the right side.\n",
        "\n",
        "```python\n",
        "# Creating a variable\n",
        "x = 10\n",
        "print(x)  # Output: 10\n",
        "```\n",
        "\n",
        "## Variable Naming Rules\n",
        "When naming variables in Python, you must follow these rules:\n",
        "1. Variable names must start with a letter or an underscore (_), and cannot start with a number.\n",
        "\n",
        "2. Variable names can only contain alphanumeric characters and underscores (A-z, 0-9, _ ).\n",
        "\n",
        "3. Variable names are case-sensitive. This means *`Variable`* and **`variable`** are different variables.\n",
        "\n",
        "```python\n",
        "# Valid variable names\n",
        "my_variable = 10\n",
        "_my_variable = 20\n",
        "myVariable = 30\n",
        "\n",
        "# Invalid variable names\n",
        "2my_variable = 10  # Error: cannot start with a number\n",
        "my-variable = 20   # Error: cannot contain hyphens\n",
        "```"
      ],
      "metadata": {
        "id": "XS5VDhpx1ki0"
      }
    },
    {
      "cell_type": "code",
      "source": [
        "# Variable Examples:\n",
        "# Assigning values to variables\n",
        "a = 5\n",
        "b = \"Hello\"\n",
        "c = 3.14\n",
        "d = True\n",
        "\n",
        "print(a)  # Output: 5\n",
        "print(b)  # Output: Hello\n",
        "print(c)  # Output: 3.14\n",
        "print(d)  # Output: True"
      ],
      "metadata": {
        "colab": {
          "base_uri": "https://localhost:8080/"
        },
        "id": "Ku_qatXW2eOM",
        "outputId": "7dc05b6d-280b-4155-8252-f5611433589e"
      },
      "execution_count": null,
      "outputs": [
        {
          "output_type": "stream",
          "name": "stdout",
          "text": [
            "5\n",
            "Hello\n",
            "3.14\n",
            "True\n"
          ]
        }
      ]
    },
    {
      "cell_type": "code",
      "source": [
        "# User Defined Inputs to Variables:\n",
        "name = input(\"Enter your name: \")\n",
        "age = input(\"Enter your age: \")\n",
        "phno = input(\"Enter your phone number: \")\n",
        "\n",
        "print(\"Hello, \" + name + \"! You are \" + age + \" years old. Your mobile number is +91 \" +phno)"
      ],
      "metadata": {
        "colab": {
          "base_uri": "https://localhost:8080/"
        },
        "id": "d53pzoST2sZN",
        "outputId": "87925b5a-79cd-4154-b7d5-cd738dbce3a0"
      },
      "execution_count": null,
      "outputs": [
        {
          "output_type": "stream",
          "name": "stdout",
          "text": [
            "Enter your name: B S Shreesha\n",
            "Enter your age: 21\n",
            "Enter your phone number: 8073673296\n",
            "Hello, B S Shreesha! You are 21 years old. Your mobile number is +91 8073673296\n"
          ]
        }
      ]
    },
    {
      "cell_type": "markdown",
      "source": [
        "# Python Data Types\n",
        "\n",
        "Python is a dynamically typed language, which means you don't need to explicitly declare the type of a variable when you create it. However, understanding the different data types in Python is crucial for effective programming. Here are the primary data types in Python:\n",
        "\n",
        "## 1. Numeric Types\n",
        "\n",
        "### Integers (`int`)\n",
        "Integers are whole numbers, positive or negative, without decimals.\n",
        "\n",
        "```python\n",
        "a = 10\n",
        "print(type(a))  # Output: <class 'int'>\n",
        "```\n",
        "\n",
        "###Floats (`float`)\n",
        "Floats are real numbers that contain one or more decimals.\n",
        "\n",
        "```python\n",
        "b = 20.5\n",
        "print(type(b))  # Output: <class 'float'>\n",
        "```\n",
        "\n",
        "###Complex Numbers (`complex`)\n",
        "Complex numbers are numbers that have a real part and an imaginary part.\n",
        "\n",
        "```python\n",
        "c = 3 + 4j\n",
        "print(type(c))  # Output: <class 'complex'>\n",
        "```\n",
        "\n",
        "## 2. Sequences\n",
        "### Strings (`str`)\n",
        "Strings are sequences of characters. They are immutable, meaning you cannot change individual characters once a string is created.\n",
        "\n",
        "```python\n",
        "d = \"Hello, Python!\"\n",
        "print(type(d))  # Output: <class 'str'>\n",
        "```\n",
        "\n",
        "### Lists (`list`)\n",
        "Lists are ordered collections of items. They are **mutable**, meaning you can change their content.\n",
        "\n",
        "```python\n",
        "e = [1, 2, 3, \"four\", 5.0]\n",
        "print(type(e))  # Output: <class 'list'>\n",
        "```\n",
        "\n",
        "### Tuples (`tuple`)\n",
        "Tuples are ordered collections of items. They are **immutable**, meaning you cannot change their content once created.\n",
        "\n",
        "```python\n",
        "f = (1, 2, 3, \"four\", 5.0)\n",
        "print(type(f))  # Output: <class 'tuple'>\n",
        "```\n",
        "\n",
        "## 3. Sets\n",
        "### Sets (`set`)\n",
        "Sets are unordered collections of unique items. They are *mutable* and do not allow duplicate elements.\n",
        "\n",
        "```python\n",
        "g = {1, 2, 3, 4, 5}\n",
        "print(type(g))  # Output: <class 'set'>\n",
        "```\n",
        "\n",
        "## 4. Mappings\n",
        "### Dictionaries (`dict`)\n",
        "Dictionaries are unordered collections of **key-value pairs**. They are mutable and allow fast retrieval of data based on keys.\n",
        "\n",
        "```python\n",
        "h = {\"name\": \"Alice\", \"age\": 25, \"city\": \"New York\"}\n",
        "print(type(h))  # Output: <class 'dict'>\n",
        "```\n",
        "\n",
        "## 5. Boolean (`bool`)\n",
        "Boolean values represent truth values. They can be either `True` or `False`.\n",
        "\n",
        "```python\n",
        "i = True\n",
        "j = False\n",
        "print(type(i))  # Output: <class 'bool'>\n",
        "print(type(j))  # Output: <class 'bool'>\n",
        "```\n",
        "\n",
        "## 6. None (`NoneType`)\n",
        "None is a special value in Python that represents the absence of a value. It is often used to indicate that a variable has no value assigned to it.\n",
        "\n",
        "```python\n",
        "k = None\n",
        "print(type(k))  # Output: <class 'NoneType'>\n",
        "```\n",
        "\n",
        "Some examples can be seen below\n"
      ],
      "metadata": {
        "id": "EGeglLT8zSCE"
      }
    },
    {
      "cell_type": "code",
      "source": [
        "# Example for an Integer\n",
        "a = 10\n",
        "print(a)  # Output: 10\n",
        "print(type(a))  # Output: <class 'int'>"
      ],
      "metadata": {
        "colab": {
          "base_uri": "https://localhost:8080/"
        },
        "id": "O9_qP8_xzPaW",
        "outputId": "84f0c881-66fa-41d5-fd48-cc1d0764bb5a"
      },
      "execution_count": null,
      "outputs": [
        {
          "output_type": "stream",
          "name": "stdout",
          "text": [
            "10\n",
            "<class 'int'>\n"
          ]
        }
      ]
    },
    {
      "cell_type": "code",
      "source": [
        "# Example of a float\n",
        "b = 20.5\n",
        "print(b)  # Output: 20.5\n",
        "print(type(b))  # Output: <class 'float'>"
      ],
      "metadata": {
        "colab": {
          "base_uri": "https://localhost:8080/"
        },
        "id": "ehZeomJDFWss",
        "outputId": "bf402edb-4a8b-4904-a585-7604379ccdc2"
      },
      "execution_count": null,
      "outputs": [
        {
          "output_type": "stream",
          "name": "stdout",
          "text": [
            "20.5\n",
            "<class 'float'>\n"
          ]
        }
      ]
    },
    {
      "cell_type": "code",
      "source": [
        "# Example of a complex number\n",
        "c = 8 + 6j\n",
        "print(c)  # Output: (3+4j)\n",
        "print(type(c))  # Output: <class 'complex'>"
      ],
      "metadata": {
        "colab": {
          "base_uri": "https://localhost:8080/"
        },
        "id": "Rzj3iif5FZuz",
        "outputId": "1eabffa4-bfec-4b25-a7a3-32247eb666eb"
      },
      "execution_count": null,
      "outputs": [
        {
          "output_type": "stream",
          "name": "stdout",
          "text": [
            "(8+6j)\n",
            "<class 'complex'>\n"
          ]
        }
      ]
    },
    {
      "cell_type": "code",
      "source": [
        "# Example of a string\n",
        "d = \"Hello, Python!\"\n",
        "print(d)  # Output: Hello, Python!\n",
        "print(type(d))  # Output: <class 'str'>"
      ],
      "metadata": {
        "colab": {
          "base_uri": "https://localhost:8080/"
        },
        "id": "xvheyi3TFgs4",
        "outputId": "34ab88ce-85c5-4147-ca9d-adcb6565c657"
      },
      "execution_count": null,
      "outputs": [
        {
          "output_type": "stream",
          "name": "stdout",
          "text": [
            "Hello, Python!\n",
            "<class 'str'>\n"
          ]
        }
      ]
    },
    {
      "cell_type": "code",
      "source": [
        "# Example of a list\n",
        "e = [1, 2, 3, \"four\", 5.0]\n",
        "print(e)  # Output: [1, 2, 3, 'four', 5.0]\n",
        "print(type(e))  # Output: <class 'list'>"
      ],
      "metadata": {
        "colab": {
          "base_uri": "https://localhost:8080/"
        },
        "id": "K3wWqLAaFncJ",
        "outputId": "bb3785cf-1e9b-455e-b9f3-fe56e2c3d421"
      },
      "execution_count": null,
      "outputs": [
        {
          "output_type": "stream",
          "name": "stdout",
          "text": [
            "[1, 2, 3, 'four', 5.0]\n",
            "<class 'list'>\n"
          ]
        }
      ]
    },
    {
      "cell_type": "code",
      "source": [
        "# Example of a tuple\n",
        "f = (1, 2, 3, \"four\", 5.0)\n",
        "print(f)  # Output: (1, 2, 3, 'four', 5.0)\n",
        "print(type(f))  # Output: <class 'tuple'>"
      ],
      "metadata": {
        "colab": {
          "base_uri": "https://localhost:8080/"
        },
        "id": "oji39x3RFpZr",
        "outputId": "77c0ac08-4e1b-4896-9072-39dd68653317"
      },
      "execution_count": null,
      "outputs": [
        {
          "output_type": "stream",
          "name": "stdout",
          "text": [
            "(1, 2, 3, 'four', 5.0)\n",
            "<class 'tuple'>\n"
          ]
        }
      ]
    },
    {
      "cell_type": "code",
      "source": [
        "# Example of a set\n",
        "g = {1, 2, 3, 4, 5}\n",
        "print(g)  # Output: {1, 2, 3, 4, 5}\n",
        "print(type(g))  # Output: <class 'set'>"
      ],
      "metadata": {
        "colab": {
          "base_uri": "https://localhost:8080/"
        },
        "id": "Nt3VssREFrFh",
        "outputId": "da89ab91-a8cf-43ad-aec6-c1f038d54e9b"
      },
      "execution_count": null,
      "outputs": [
        {
          "output_type": "stream",
          "name": "stdout",
          "text": [
            "{1, 2, 3, 4, 5}\n",
            "<class 'set'>\n"
          ]
        }
      ]
    },
    {
      "cell_type": "code",
      "source": [
        "# Example of a dictionary\n",
        "h = {\"name\": \"Alice\", \"age\": 25, \"city\": \"New York\"}\n",
        "print(h)  # Output: {'name': 'Alice', 'age': 25, 'city': 'New York'}\n",
        "print(type(h))  # Output: <class 'dict'>"
      ],
      "metadata": {
        "colab": {
          "base_uri": "https://localhost:8080/"
        },
        "id": "r-NX2xKLFsh-",
        "outputId": "1d50488e-784b-4454-a758-ce2ab6b6a012"
      },
      "execution_count": null,
      "outputs": [
        {
          "output_type": "stream",
          "name": "stdout",
          "text": [
            "{'name': 'Alice', 'age': 25, 'city': 'New York'}\n",
            "<class 'dict'>\n"
          ]
        }
      ]
    },
    {
      "cell_type": "code",
      "source": [
        "# Example of a boolean\n",
        "i = True\n",
        "j = False\n",
        "print(i)  # Output: True\n",
        "print(j)  # Output: False\n",
        "print(type(i))  # Output: <class 'bool'>\n",
        "print(type(j))  # Output: <class 'bool'>"
      ],
      "metadata": {
        "colab": {
          "base_uri": "https://localhost:8080/"
        },
        "id": "upaC5nuTFuAw",
        "outputId": "3f88f91c-9929-45de-c3ad-976656178ec0"
      },
      "execution_count": null,
      "outputs": [
        {
          "output_type": "stream",
          "name": "stdout",
          "text": [
            "True\n",
            "False\n",
            "<class 'bool'>\n",
            "<class 'bool'>\n"
          ]
        }
      ]
    },
    {
      "cell_type": "code",
      "source": [
        "# Example of None\n",
        "k = None\n",
        "print(k)  # Output: None\n",
        "print(type(k))  # Output: <class 'NoneType'>"
      ],
      "metadata": {
        "colab": {
          "base_uri": "https://localhost:8080/"
        },
        "id": "AhVN7k0xFvpo",
        "outputId": "b05a4ff1-9f3d-4c42-d23e-53fae402572b"
      },
      "execution_count": null,
      "outputs": [
        {
          "output_type": "stream",
          "name": "stdout",
          "text": [
            "None\n",
            "<class 'NoneType'>\n"
          ]
        }
      ]
    },
    {
      "cell_type": "code",
      "source": [
        "# User defined Inputs\n",
        "a = input(\"Enter a number: \")\n",
        "print(a)\n",
        "print(type(a))"
      ],
      "metadata": {
        "colab": {
          "base_uri": "https://localhost:8080/"
        },
        "id": "CuEOw3PJFxJ1",
        "outputId": "15c2f285-2ae3-4fd2-cda7-805b887ac0f8"
      },
      "execution_count": null,
      "outputs": [
        {
          "output_type": "stream",
          "name": "stdout",
          "text": [
            "Enter a number: 24\n",
            "24\n",
            "<class 'str'>\n"
          ]
        }
      ]
    },
    {
      "cell_type": "code",
      "source": [
        "b = int(input(\"Enter a number: \"))\n",
        "print(b)\n",
        "print(type(b))"
      ],
      "metadata": {
        "colab": {
          "base_uri": "https://localhost:8080/"
        },
        "id": "q0Kb7lhvGK4k",
        "outputId": "11a03e9c-a675-4ec1-9e16-b4af12f0b6e8"
      },
      "execution_count": null,
      "outputs": [
        {
          "output_type": "stream",
          "name": "stdout",
          "text": [
            "Enter a number: 88\n",
            "88\n",
            "<class 'int'>\n"
          ]
        }
      ]
    },
    {
      "cell_type": "code",
      "source": [
        "c = float(input(\"Enter a number: \"))\n",
        "print(c)\n",
        "print(type(c))"
      ],
      "metadata": {
        "colab": {
          "base_uri": "https://localhost:8080/"
        },
        "id": "IH8PuWMiGr5a",
        "outputId": "6be84b55-d57c-41ab-db56-3ec246431168"
      },
      "execution_count": null,
      "outputs": [
        {
          "output_type": "stream",
          "name": "stdout",
          "text": [
            "Enter a number: 88.8\n",
            "88.8\n",
            "<class 'float'>\n"
          ]
        }
      ]
    },
    {
      "cell_type": "code",
      "source": [
        "d = str(input(\"Enter your name: \"))\n",
        "print(d)\n",
        "print(type(d))"
      ],
      "metadata": {
        "colab": {
          "base_uri": "https://localhost:8080/"
        },
        "id": "gL4NoqYNG1FF",
        "outputId": "481a0bbf-f5eb-4c3a-83eb-d771fe97927f"
      },
      "execution_count": null,
      "outputs": [
        {
          "output_type": "stream",
          "name": "stdout",
          "text": [
            "Enter your name: Skanda\n",
            "Skanda\n",
            "<class 'str'>\n"
          ]
        }
      ]
    },
    {
      "cell_type": "code",
      "source": [
        "e = list(input(\"Enter a list: \"))\n",
        "print(e)\n",
        "print(type(e))"
      ],
      "metadata": {
        "colab": {
          "base_uri": "https://localhost:8080/"
        },
        "id": "r0L7yDhjG2fE",
        "outputId": "d579c4a0-f348-4302-d34b-d30a5f334862"
      },
      "execution_count": null,
      "outputs": [
        {
          "output_type": "stream",
          "name": "stdout",
          "text": [
            "Enter a list: 8765432\n",
            "['8', '7', '6', '5', '4', '3', '2']\n",
            "<class 'list'>\n"
          ]
        }
      ]
    },
    {
      "cell_type": "code",
      "source": [
        "f = tuple(input(\"Enter a tuple: \"))\n",
        "print(f)\n",
        "print(type(f))"
      ],
      "metadata": {
        "colab": {
          "base_uri": "https://localhost:8080/"
        },
        "id": "_yAInflHG4GC",
        "outputId": "a2e14c9e-824b-4b60-ea76-daa7455f8604"
      },
      "execution_count": null,
      "outputs": [
        {
          "output_type": "stream",
          "name": "stdout",
          "text": [
            "Enter a tuple: 987653\n",
            "('9', '8', '7', '6', '5', '3')\n",
            "<class 'tuple'>\n"
          ]
        }
      ]
    },
    {
      "cell_type": "code",
      "source": [
        "g = set(input(\"Enter a set: \"))\n",
        "print(g)\n",
        "print(type(g))"
      ],
      "metadata": {
        "colab": {
          "base_uri": "https://localhost:8080/"
        },
        "id": "7T6lbBcWG5bP",
        "outputId": "6aa0c330-7f15-4172-ed26-773b415c5866"
      },
      "execution_count": null,
      "outputs": [
        {
          "output_type": "stream",
          "name": "stdout",
          "text": [
            "Enter a set: 11 12 13\n",
            "{'3', ' ', '1', '2'}\n",
            "<class 'set'>\n"
          ]
        }
      ]
    },
    {
      "cell_type": "markdown",
      "source": [
        "# Conditionals and Loops in Python\n",
        "\n",
        "Conditionals and loops are fundamental control structures in Python that allow you to make decisions and repeat actions based on certain conditions.\n",
        "\n",
        "## Conditionals\n",
        "\n",
        "Conditionals are used to execute different blocks of code based on whether a condition is true or false. The primary conditional statements in Python are `if`, `elif`, and `else`.\n",
        "\n",
        "### `if` Statement\n",
        "\n",
        "The `if` statement is used to execute a block of code if a condition is true.\n",
        "\n",
        "```python\n",
        "# Example of an if statement\n",
        "age = 18\n",
        "if age >= 18:\n",
        "    print(\"You are an adult.\")\n",
        "```\n",
        "\n",
        "### `if-else` Statement\n",
        "The `if-else` statement is used to execute one block of code if a condition is true, and another block if the condition is false.\n",
        "\n",
        "```python\n",
        "# Example of an if-else statement\n",
        "age = 17\n",
        "if age >= 18:\n",
        "    print(\"You are an adult.\")\n",
        "else:\n",
        "    print(\"You are a minor.\")\n",
        "```\n",
        "### `if-elif-else` Statement\n",
        "The `if-elif-else` statement is used to check multiple conditions in sequence.\n",
        "```python\n",
        "# Example of an if-elif-else statement\n",
        "age = 25\n",
        "if age < 18:\n",
        "    print(\"You are a minor.\")\n",
        "elif age >= 18 and age < 65:\n",
        "    print(\"You are an adult.\")\n",
        "else:\n",
        "    print(\"You are a senior citizen.\")\n",
        "```"
      ],
      "metadata": {
        "id": "V2olcnUgKrDz"
      }
    },
    {
      "cell_type": "code",
      "source": [
        "# If Conditional\n",
        "#If loop execution\n",
        "num = int(input(\"Enter a number: \"))\n",
        "if (num % 2 == 0):\n",
        "    print(\"The number is even\")"
      ],
      "metadata": {
        "colab": {
          "base_uri": "https://localhost:8080/"
        },
        "id": "KrbMz3UrHIGL",
        "outputId": "03d9ace5-5197-481b-a238-d125cd8fe573"
      },
      "execution_count": null,
      "outputs": [
        {
          "output_type": "stream",
          "name": "stdout",
          "text": [
            "Enter a number: 2\n",
            "The number is even\n"
          ]
        }
      ]
    },
    {
      "cell_type": "code",
      "source": [
        "# If - Else Conditional\n",
        "num = int(input(\"Enter a number: \"))\n",
        "if (num % 2 == 0):\n",
        "    print(\"The number is even\")\n",
        "else:\n",
        "    print(\"The number is odd\")"
      ],
      "metadata": {
        "colab": {
          "base_uri": "https://localhost:8080/"
        },
        "id": "hiNFb-u9LXy2",
        "outputId": "6ea15c81-9404-417d-fb36-33f7771b5dd3"
      },
      "execution_count": null,
      "outputs": [
        {
          "output_type": "stream",
          "name": "stdout",
          "text": [
            "Enter a number: 9\n",
            "The number is odd\n"
          ]
        }
      ]
    },
    {
      "cell_type": "code",
      "source": [
        "#if-elif-else Conditional\n",
        "number = int(input(\"Enter a number:\"))\n",
        "if number == 10:\n",
        "    print(\"The number is 10\")\n",
        "elif number == 50:\n",
        "    print(\"The number is 50\")\n",
        "elif number == 100:\n",
        "    print(\"The number is 100\")\n",
        "else:\n",
        "    print(\"The number is not equal to 10,50,100\")"
      ],
      "metadata": {
        "colab": {
          "base_uri": "https://localhost:8080/"
        },
        "id": "IuiiGa3hLXsS",
        "outputId": "ec10d28c-5f86-4bec-a506-7b2694a50d82"
      },
      "execution_count": null,
      "outputs": [
        {
          "output_type": "stream",
          "name": "stdout",
          "text": [
            "Enter a number:10\n",
            "The number is 10\n"
          ]
        }
      ]
    },
    {
      "cell_type": "markdown",
      "source": [
        "# Loops\n",
        "Loops are used to repeat a block of code multiple times. The primary loop constructs in Python are `for` loops and `while` loops.\n",
        "\n",
        "# `for` Loop\n",
        "The `for` loop is used to iterate over a sequence (such as a list, tuple, or string).\n",
        "\n",
        "```python\n",
        "# Example of a for loop\n",
        "fruits = [\"apple\", \"banana\", \"cherry\"]\n",
        "for fruit in fruits:\n",
        "    print(fruit)\n",
        "```\n",
        "\n",
        "### `while` Loop\n",
        "The `while` loop is used to repeat a block of code as long as a condition is true.\n",
        "\n",
        "```python\n",
        "# Example of a while loop\n",
        "count = 1\n",
        "while count <= 5:\n",
        "    print(count)\n",
        "    count += 1\n",
        "```\n",
        "\n",
        "# Loop Control Statements\n",
        "Loop control statements allow you to control the flow of loops. The primary control statements are `break`, `continue`, and `pass`.\n",
        "\n",
        "### `break` Statement\n",
        "The `break` statement is used to exit the loop prematurely.\n",
        "```python\n",
        "# Example of a break statement\n",
        "for i in range(10):\n",
        "    if i == 5:\n",
        "        break\n",
        "    print(i)\n",
        "```\n",
        "\n",
        "### `continue` Statement\n",
        "The `continue` statement is used to skip the current iteration and continue with the next one.\n",
        "\n",
        "```python\n",
        "# Example of a continue statement\n",
        "for i in range(10):\n",
        "    if i % 2 == 0:\n",
        "        continue\n",
        "    print(i)\n",
        "```\n",
        "\n",
        "### `pass` Statement\n",
        "The pass statement is a null operation; it does nothing. It is often used as a placeholder.\n",
        "\n",
        "```python\n",
        "# Example of a pass statement\n",
        "for i in range(10):\n",
        "    if i % 2 == 0:\n",
        "        pass\n",
        "    else:\n",
        "        print(i)\n",
        "```"
      ],
      "metadata": {
        "id": "7y4gN3OALYOv"
      }
    },
    {
      "cell_type": "code",
      "source": [
        "#For Loop\n",
        "n= int(input(\"Enter the number: \"))\n",
        "for i in range(0,11):\n",
        "    print (n,'x',i,'=',n*i)\n",
        "    i=i+1"
      ],
      "metadata": {
        "colab": {
          "base_uri": "https://localhost:8080/"
        },
        "id": "_uEU4ugpM_wy",
        "outputId": "a9155d8f-d989-43df-96b8-9994e5a080a3"
      },
      "execution_count": null,
      "outputs": [
        {
          "output_type": "stream",
          "name": "stdout",
          "text": [
            "Enter the number: 8\n",
            "8 x 0 = 0\n",
            "8 x 1 = 8\n",
            "8 x 2 = 16\n",
            "8 x 3 = 24\n",
            "8 x 4 = 32\n",
            "8 x 5 = 40\n",
            "8 x 6 = 48\n",
            "8 x 7 = 56\n",
            "8 x 8 = 64\n",
            "8 x 9 = 72\n",
            "8 x 10 = 80\n"
          ]
        }
      ]
    },
    {
      "cell_type": "code",
      "source": [
        "#While Loop\n",
        "n= int(input(\"Enter the number: \"))\n",
        "i = 1\n",
        "while(i < 11):\n",
        "    print (n,'x',i,'=',n*i)\n",
        "    i=i+1"
      ],
      "metadata": {
        "colab": {
          "base_uri": "https://localhost:8080/"
        },
        "id": "jW0cc5QONAt3",
        "outputId": "c6629e7f-6448-4142-931a-29e87467fa48"
      },
      "execution_count": null,
      "outputs": [
        {
          "output_type": "stream",
          "name": "stdout",
          "text": [
            "Enter the number: 12\n",
            "12 x 1 = 12\n",
            "12 x 2 = 24\n",
            "12 x 3 = 36\n",
            "12 x 4 = 48\n",
            "12 x 5 = 60\n",
            "12 x 6 = 72\n",
            "12 x 7 = 84\n",
            "12 x 8 = 96\n",
            "12 x 9 = 108\n",
            "12 x 10 = 120\n"
          ]
        }
      ]
    },
    {
      "cell_type": "code",
      "source": [
        "#Continue\n",
        "for iterator in range(10, 21):\n",
        "    if iterator == 10:\n",
        "        continue\n",
        "    print(iterator)"
      ],
      "metadata": {
        "colab": {
          "base_uri": "https://localhost:8080/"
        },
        "id": "xcr-I_KTNEFn",
        "outputId": "8b1755ea-67d3-450c-9f8e-d78f5b48836f"
      },
      "execution_count": null,
      "outputs": [
        {
          "output_type": "stream",
          "name": "stdout",
          "text": [
            "11\n",
            "12\n",
            "13\n",
            "14\n",
            "15\n",
            "16\n",
            "17\n",
            "18\n",
            "19\n",
            "20\n"
          ]
        }
      ]
    },
    {
      "cell_type": "code",
      "source": [
        "#Break\n",
        "n = 0\n",
        "while n<= 10:\n",
        "    print(n)\n",
        "    n = n + 1\n",
        "    if n == 5:\n",
        "        break\n",
        "print(\"End of loop\")"
      ],
      "metadata": {
        "colab": {
          "base_uri": "https://localhost:8080/"
        },
        "id": "6LD2wd2FNKEc",
        "outputId": "05c25bd7-ff8e-4119-c21d-ea2cdb618f96"
      },
      "execution_count": null,
      "outputs": [
        {
          "output_type": "stream",
          "name": "stdout",
          "text": [
            "0\n",
            "1\n",
            "2\n",
            "3\n",
            "4\n",
            "End of loop\n"
          ]
        }
      ]
    },
    {
      "cell_type": "code",
      "source": [
        "#Pass\n",
        "n = 15\n",
        "if n > 10:\n",
        "    pass\n",
        "print(7+1)"
      ],
      "metadata": {
        "colab": {
          "base_uri": "https://localhost:8080/"
        },
        "id": "RHlp0yBsNL6u",
        "outputId": "d561a5ef-651c-41ae-e043-64fb27fc29f0"
      },
      "execution_count": null,
      "outputs": [
        {
          "output_type": "stream",
          "name": "stdout",
          "text": [
            "8\n"
          ]
        }
      ]
    },
    {
      "cell_type": "markdown",
      "source": [
        "# Mathematical Functions and Operators in Python\n",
        "\n",
        "Python provides a variety of mathematical functions and operators that allow you to perform arithmetic operations and manipulate numerical data.\n",
        "\n",
        "## Arithmetic Operators\n",
        "\n",
        "Arithmetic operators are used to perform basic arithmetic operations.\n",
        "\n",
        "### Addition (`+`)\n",
        "\n",
        "```python\n",
        "# Example of addition\n",
        "a = 10\n",
        "b = 5\n",
        "sum = a + b\n",
        "print(sum)  # Output: 15\n",
        "```\n",
        "\n",
        "### Subtraction (`-`)\n",
        "```python\n",
        "# Example of subtraction\n",
        "a = 10\n",
        "b = 5\n",
        "difference = a - b\n",
        "print(difference)  # Output: 5\n",
        "```\n",
        "\n",
        "### Multiplication (`*`)\n",
        "```python\n",
        "# Example of multiplication\n",
        "a = 10\n",
        "b = 5\n",
        "product = a * b\n",
        "print(product)  # Output: 50\n",
        "```\n",
        "\n",
        "### Division (`/`)\n",
        "```python\n",
        "# Example of division\n",
        "a = 10\n",
        "b = 5\n",
        "quotient = a / b\n",
        "print(quotient)  # Output: 2.0\n",
        "```\n",
        "\n",
        "### Floor Division (`//`)\n",
        "```python\n",
        "# Example of floor division\n",
        "a = 10\n",
        "b = 3\n",
        "floor_quotient = a // b\n",
        "print(floor_quotient)  # Output: 3\n",
        "```\n",
        "\n",
        "### Modulus (`%`)\n",
        "```python\n",
        "# Example of modulus\n",
        "a = 10\n",
        "b = 3\n",
        "remainder = a % b\n",
        "print(remainder)  # Output: 1\n",
        "```\n",
        "\n",
        "### Exponential (`**`)\n",
        "```python\n",
        "# Example of exponentiation\n",
        "a = 2\n",
        "b = 3\n",
        "power = a ** b\n",
        "print(power)  # Output: 8\n",
        "```\n",
        "\n",
        "\n",
        "# Comparison Operators\n",
        "Comparison operators are used to compare two values and return a boolean result.\n",
        "### Equal to (`==`)\n",
        "```python\n",
        "# Example of equal to\n",
        "a = 10\n",
        "b = 10\n",
        "is_equal = a == b\n",
        "print(is_equal)  # Output: True\n",
        "```\n",
        "\n",
        "### Not Equal to (`!=`)\n",
        "```python\n",
        "# Example of not equal to\n",
        "a = 10\n",
        "b = 5\n",
        "is_not_equal = a != b\n",
        "print(is_not_equal)  # Output: True\n",
        "```\n",
        "\n",
        "### Greater Than (`>`)\n",
        "```python\n",
        "# Example of greater than\n",
        "a = 10\n",
        "b = 5\n",
        "is_greater = a > b\n",
        "print(is_greater)  # Output: True\n",
        "```\n",
        "\n",
        "### Less than (`<`)\n",
        "```python\n",
        "# Example of less than\n",
        "a = 10\n",
        "b = 5\n",
        "is_less = a < b\n",
        "print(is_less)  # Output: False\n",
        "```\n",
        "\n",
        "### Greater than or equal to (`>=`)\n",
        "```python\n",
        "# Example of greater than or equal to\n",
        "a = 10\n",
        "b = 10\n",
        "is_greater_equal = a >= b\n",
        "print(is_greater_equal)  # Output: True\n",
        "```\n",
        "\n",
        "\n",
        "### Lesser than or equal to (`<=`)\n",
        "```python\n",
        "# Example of greater than or equal to\n",
        "a = 10\n",
        "b = 10\n",
        "is_greater_equal = a >= b\n",
        "print(is_greater_equal)  # Output: True\n",
        "```\n",
        "\n"
      ],
      "metadata": {
        "id": "e1IQeLs_Nt9n"
      }
    },
    {
      "cell_type": "code",
      "source": [
        "for t in range(0,5):\n",
        "    num = t**3\n",
        "    print(num)"
      ],
      "metadata": {
        "colab": {
          "base_uri": "https://localhost:8080/"
        },
        "id": "MlHAsEGaPa_J",
        "outputId": "7c79b1f9-98b2-4eaf-be04-9fe305e31edb"
      },
      "execution_count": null,
      "outputs": [
        {
          "output_type": "stream",
          "name": "stdout",
          "text": [
            "0\n",
            "1\n",
            "8\n",
            "27\n",
            "64\n"
          ]
        }
      ]
    },
    {
      "cell_type": "code",
      "source": [
        "#Calculator using conditionals and loops\n",
        "a = int(input(\"Enter the first number: \"))\n",
        "b = int(input(\"Enter the second number: \"))\n",
        "\n",
        "print(\"Select an option\")\n",
        "print(\"1. Addition\")\n",
        "print(\"2. Subtraction\")\n",
        "print(\"3. Multiplication\")\n",
        "print(\"4. Division\")\n",
        "print(\"5. Exponential\")\n",
        "print(\"6. Exit\")\n",
        "\n",
        "while True:\n",
        "    choice = int(input(\"Enter your choice: \"))\n",
        "    if choice == 1:\n",
        "        print(\"The result of addition is:\" ,a + b )\n",
        "    elif choice == 2:\n",
        "        print(\"The result of subtraction is:\" ,a - b )\n",
        "    elif choice == 3:\n",
        "        print(\"The result of multiplication is:\" ,a * b )\n",
        "    elif choice == 4:\n",
        "        print(\"The result of division is:\" ,a / b )\n",
        "    elif choice == 5:\n",
        "        print(\"The result of exponentiation is:\" ,a ** b )\n",
        "    elif choice == 6:\n",
        "        break\n",
        "    else:\n",
        "        print(\"Invalid choice\")"
      ],
      "metadata": {
        "colab": {
          "base_uri": "https://localhost:8080/"
        },
        "id": "gZPeYqZPNN7n",
        "outputId": "4e246e17-c506-486b-c201-8b4a67b6af7a"
      },
      "execution_count": null,
      "outputs": [
        {
          "name": "stdout",
          "output_type": "stream",
          "text": [
            "Enter the first number: 8\n",
            "Enter the second number: 0\n",
            "Select an option\n",
            "1. Addition\n",
            "2. Subtraction\n",
            "3. Multiplication\n",
            "4. Division\n",
            "5. Exponential\n",
            "6. Exit\n",
            "Enter your choice: 1\n",
            "The result of addition is: 8\n",
            "Enter your choice: 6\n"
          ]
        }
      ]
    },
    {
      "cell_type": "markdown",
      "source": [
        "# Assignment Operators\n",
        "Assignment operators are used to assign values to variables.\n",
        "\n",
        "1. Addition Assignment (`+=`)\n",
        "2. Subtraction Assignment (`-=`)\n",
        "3. Multiplication Assignment (`*=`)\n",
        "4. Division Assignment (/=)\n",
        "5. Floor Division Assignment (//=)\n",
        "6. Modulus Assignment (%=)\n",
        "7. Exponentiation Assignment (**=)"
      ],
      "metadata": {
        "id": "vm4wsimMPqVe"
      }
    },
    {
      "cell_type": "code",
      "source": [
        "# Example of addition assignment\n",
        "a = 10\n",
        "a += 8\n",
        "print(a)  # Output: 15"
      ],
      "metadata": {
        "colab": {
          "base_uri": "https://localhost:8080/"
        },
        "id": "xZcG7cKSPne5",
        "outputId": "5519d546-7d12-4656-f71b-53a28a5e659c"
      },
      "execution_count": null,
      "outputs": [
        {
          "output_type": "stream",
          "name": "stdout",
          "text": [
            "18\n"
          ]
        }
      ]
    },
    {
      "cell_type": "code",
      "source": [
        "# Example of subtraction assignment\n",
        "a = 10\n",
        "a -= 5\n",
        "print(a)  # Output: 5"
      ],
      "metadata": {
        "colab": {
          "base_uri": "https://localhost:8080/"
        },
        "id": "B-O1NF40P0cL",
        "outputId": "2d7df9e1-e9a3-4f35-b13d-683b2624bf48"
      },
      "execution_count": null,
      "outputs": [
        {
          "output_type": "stream",
          "name": "stdout",
          "text": [
            "5\n"
          ]
        }
      ]
    },
    {
      "cell_type": "code",
      "source": [
        "# Example of multiplication assignment\n",
        "a = 10\n",
        "a *= 4\n",
        "print(a)  # Output: 50"
      ],
      "metadata": {
        "colab": {
          "base_uri": "https://localhost:8080/"
        },
        "id": "_wdCBME0P2Ty",
        "outputId": "b56d0eca-55dc-493e-e70f-7253b06a1904"
      },
      "execution_count": null,
      "outputs": [
        {
          "output_type": "stream",
          "name": "stdout",
          "text": [
            "40\n"
          ]
        }
      ]
    },
    {
      "cell_type": "code",
      "source": [
        "# Example of division assignment\n",
        "a = 10\n",
        "a /= 5\n",
        "print(a)  # Output: 2.0"
      ],
      "metadata": {
        "colab": {
          "base_uri": "https://localhost:8080/"
        },
        "id": "nmIh7x3XQQRB",
        "outputId": "64426196-77bb-46f7-9755-3d9c2bc87689"
      },
      "execution_count": null,
      "outputs": [
        {
          "output_type": "stream",
          "name": "stdout",
          "text": [
            "2.0\n"
          ]
        }
      ]
    },
    {
      "cell_type": "code",
      "source": [
        "# Example of floor division assignment\n",
        "a = 10\n",
        "a //= 8\n",
        "print(a)  # Output: 3"
      ],
      "metadata": {
        "colab": {
          "base_uri": "https://localhost:8080/"
        },
        "id": "Th4m5T-DQP3t",
        "outputId": "282f2022-c6ab-445c-be32-f77b774b56d4"
      },
      "execution_count": null,
      "outputs": [
        {
          "output_type": "stream",
          "name": "stdout",
          "text": [
            "1\n"
          ]
        }
      ]
    },
    {
      "cell_type": "code",
      "source": [
        "# Example of modulus assignment\n",
        "a = 10\n",
        "a %= 6\n",
        "print(a)  # Output: 1"
      ],
      "metadata": {
        "colab": {
          "base_uri": "https://localhost:8080/"
        },
        "id": "ZnWil35bQWYP",
        "outputId": "fb2c035b-df39-4da8-9cf9-d348da716c79"
      },
      "execution_count": null,
      "outputs": [
        {
          "output_type": "stream",
          "name": "stdout",
          "text": [
            "4\n"
          ]
        }
      ]
    },
    {
      "cell_type": "code",
      "source": [
        "# Example of exponentiation assignment\n",
        "a = 2\n",
        "a **= 3\n",
        "print(a)  # Output: 8"
      ],
      "metadata": {
        "colab": {
          "base_uri": "https://localhost:8080/"
        },
        "id": "gIBsLK7MQYaa",
        "outputId": "931bd3b3-13ea-45c5-dbe6-05b386f7372b"
      },
      "execution_count": null,
      "outputs": [
        {
          "output_type": "stream",
          "name": "stdout",
          "text": [
            "8\n"
          ]
        }
      ]
    },
    {
      "cell_type": "code",
      "source": [],
      "metadata": {
        "id": "oYanU0FOREQw"
      },
      "execution_count": null,
      "outputs": []
    }
  ]
}