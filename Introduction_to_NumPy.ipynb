{
  "nbformat": 4,
  "nbformat_minor": 0,
  "metadata": {
    "colab": {
      "provenance": [],
      "include_colab_link": true
    },
    "kernelspec": {
      "name": "python3",
      "display_name": "Python 3"
    },
    "language_info": {
      "name": "python"
    }
  },
  "cells": [
    {
      "cell_type": "markdown",
      "metadata": {
        "id": "view-in-github",
        "colab_type": "text"
      },
      "source": [
        "<a href=\"https://colab.research.google.com/github/bsshreesha/Python-SQL-Assignment/blob/main/Introduction_to_NumPy.ipynb\" target=\"_parent\"><img src=\"https://colab.research.google.com/assets/colab-badge.svg\" alt=\"Open In Colab\"/></a>"
      ]
    },
    {
      "cell_type": "markdown",
      "source": [
        "## NumPy Tutorial\n",
        "\n",
        "### Introduction\n",
        "NumPy (Numerical Python) is a powerful library for numerical computing in Python. It provides support for large, multi-dimensional arrays and matrices, along with a collection of mathematical functions to operate on these data structures efficiently.\n",
        "\n",
        "---\n",
        "\n",
        "## Why Use NumPy?\n",
        "- **Performance**: NumPy arrays are faster than Python lists for numerical computations.\n",
        "- **Memory Efficiency**: NumPy arrays consume less memory than Python lists.\n",
        "- **Convenience**: Built-in functions make mathematical operations simpler and more efficient.\n",
        "- **Integration**: Works well with other scientific computing and machine learning libraries like SciPy, Pandas, and TensorFlow.\n",
        "\n",
        "---\n",
        "\n",
        "## NumPy Basics\n",
        "### Importing NumPy\n",
        "To use NumPy, you need to import it first:\n",
        "```python\n",
        "import numpy as np\n",
        "```"
      ],
      "metadata": {
        "id": "-txq2XAqH8Z0"
      }
    },
    {
      "cell_type": "markdown",
      "source": [
        "# What is an Array?\n",
        "An **array** is a data structure that stores multiple values in a single variable. Arrays can be one-dimensional (like a list) or multi-dimensional (like a table or matrix). Arrays allow for efficient storage and retrieval of numerical data.\n",
        "\n",
        "NumPy arrays are the core data structure in NumPy."
      ],
      "metadata": {
        "id": "9hcg4IujIa0p"
      }
    },
    {
      "cell_type": "code",
      "source": [
        "import numpy as np\n",
        "arr = np.array([1, 2, 3, 4, 5])\n",
        "print(\"NumPy Array:\", arr)"
      ],
      "metadata": {
        "id": "QlEIjvVOIDcm",
        "colab": {
          "base_uri": "https://localhost:8080/"
        },
        "outputId": "e5882acf-9b74-4599-e8aa-488dd0297a14"
      },
      "execution_count": null,
      "outputs": [
        {
          "output_type": "stream",
          "name": "stdout",
          "text": [
            "NumPy Array: [1 2 3 4 5]\n"
          ]
        }
      ]
    },
    {
      "cell_type": "markdown",
      "source": [
        "### Creating Multi-dimensional Arrays"
      ],
      "metadata": {
        "id": "3TWS3e7mIgG-"
      }
    },
    {
      "cell_type": "code",
      "source": [
        "matrix = np.array([[1, 2, 3], [4, 5, 6]])\n",
        "print(\"\\n2D NumPy Matrix:\\n\", matrix)"
      ],
      "metadata": {
        "id": "OF1agJxuIDaN",
        "colab": {
          "base_uri": "https://localhost:8080/"
        },
        "outputId": "678fc592-ee46-4de2-a878-bb488d490a1d"
      },
      "execution_count": null,
      "outputs": [
        {
          "output_type": "stream",
          "name": "stdout",
          "text": [
            "\n",
            "2D NumPy Matrix:\n",
            " [[1 2 3]\n",
            " [4 5 6]]\n"
          ]
        }
      ]
    },
    {
      "cell_type": "markdown",
      "source": [
        "## Array Creation Functions\n",
        "### `np.arange()` - Create sequences of numbers"
      ],
      "metadata": {
        "id": "1ZhfYFvrIlNM"
      }
    },
    {
      "cell_type": "code",
      "source": [
        "arange_array = np.arange(0, 12, 1)  # Even numbers from 0 to 8\n",
        "print(\"\\nArange Array:\", arange_array)"
      ],
      "metadata": {
        "id": "AA0iU8VvIDX6",
        "colab": {
          "base_uri": "https://localhost:8080/"
        },
        "outputId": "36fb9834-447b-4182-ec11-e7bbd90cef32"
      },
      "execution_count": null,
      "outputs": [
        {
          "output_type": "stream",
          "name": "stdout",
          "text": [
            "\n",
            "Arange Array: [ 0  1  2  3  4  5  6  7  8  9 10 11]\n"
          ]
        }
      ]
    },
    {
      "cell_type": "markdown",
      "source": [
        "### `np.linspace()` - Create evenly spaced numbers"
      ],
      "metadata": {
        "id": "No1ZSLO1IoZT"
      }
    },
    {
      "cell_type": "code",
      "source": [
        "linspace_array = np.linspace(0, 10, 6)  # 5 equally spaced values from 0 to 10\n",
        "print(\"\\nLinspace Array:\", linspace_array)"
      ],
      "metadata": {
        "id": "rZ5SzxGuIDVX",
        "colab": {
          "base_uri": "https://localhost:8080/"
        },
        "outputId": "6e4e345a-1825-412c-9795-0f80b8c95a56"
      },
      "execution_count": null,
      "outputs": [
        {
          "output_type": "stream",
          "name": "stdout",
          "text": [
            "\n",
            "Linspace Array: [ 0.  2.  4.  6.  8. 10.]\n"
          ]
        }
      ]
    },
    {
      "cell_type": "markdown",
      "source": [
        "### `np.zeros()` - Create an array of zeros"
      ],
      "metadata": {
        "id": "sqptH6EFIqxT"
      }
    },
    {
      "cell_type": "code",
      "source": [
        "zeros_array = np.zeros((2, 2))\n",
        "print(\"\\nZeros Array:\\n\", zeros_array)"
      ],
      "metadata": {
        "id": "hDOkz0BuIDS4",
        "colab": {
          "base_uri": "https://localhost:8080/"
        },
        "outputId": "4e205e6d-5dea-4183-c460-74175a336b7a"
      },
      "execution_count": null,
      "outputs": [
        {
          "output_type": "stream",
          "name": "stdout",
          "text": [
            "\n",
            "Zeros Array:\n",
            " [[0. 0.]\n",
            " [0. 0.]]\n"
          ]
        }
      ]
    },
    {
      "cell_type": "markdown",
      "source": [
        "### `np.ones()` - Create an array of ones"
      ],
      "metadata": {
        "id": "Os1ymR7nIs0z"
      }
    },
    {
      "cell_type": "code",
      "source": [
        "ones_array = np.ones((4, 4))\n",
        "print(\"\\nOnes Array:\\n\", ones_array)"
      ],
      "metadata": {
        "id": "l7_HTNl-IDQS",
        "colab": {
          "base_uri": "https://localhost:8080/"
        },
        "outputId": "e0ea7d18-4214-40d5-de4f-496f1c5c8152"
      },
      "execution_count": null,
      "outputs": [
        {
          "output_type": "stream",
          "name": "stdout",
          "text": [
            "\n",
            "Ones Array:\n",
            " [[1. 1. 1. 1.]\n",
            " [1. 1. 1. 1.]\n",
            " [1. 1. 1. 1.]\n",
            " [1. 1. 1. 1.]]\n"
          ]
        }
      ]
    },
    {
      "cell_type": "markdown",
      "source": [
        "### `np.eye()` - Create an identity matrix"
      ],
      "metadata": {
        "id": "Pmpy4pvUIvtq"
      }
    },
    {
      "cell_type": "code",
      "source": [
        "identity_matrix = np.eye(4)\n",
        "print(\"\\nIdentity Matrix:\\n\", identity_matrix)"
      ],
      "metadata": {
        "id": "z4-orkZBIDNg",
        "colab": {
          "base_uri": "https://localhost:8080/"
        },
        "outputId": "1112eee1-7b06-4419-9636-14fc759f1d9a"
      },
      "execution_count": null,
      "outputs": [
        {
          "output_type": "stream",
          "name": "stdout",
          "text": [
            "\n",
            "Identity Matrix:\n",
            " [[1. 0. 0. 0.]\n",
            " [0. 1. 0. 0.]\n",
            " [0. 0. 1. 0.]\n",
            " [0. 0. 0. 1.]]\n"
          ]
        }
      ]
    },
    {
      "cell_type": "markdown",
      "source": [
        "## Basic Mathematical Operations"
      ],
      "metadata": {
        "id": "RxeXP0xfI089"
      }
    },
    {
      "cell_type": "code",
      "source": [
        "array1 = np.array([[10, 20, 30],[1,2,3]])\n",
        "array2 = np.array([[1, 2, 3],[2,4,6]])\n",
        "\n",
        "sum_result = array1 + array2\n",
        "print(\"\\nSum:\", sum_result)\n",
        "\n",
        "product_result = array1 * array2\n",
        "print(\"\\nElement-wise Multiplication:\", product_result)"
      ],
      "metadata": {
        "id": "M8z6-1mWIDK5",
        "colab": {
          "base_uri": "https://localhost:8080/"
        },
        "outputId": "c0adfbf9-cfb8-4055-b7e0-4665cd989d3d"
      },
      "execution_count": null,
      "outputs": [
        {
          "output_type": "stream",
          "name": "stdout",
          "text": [
            "\n",
            "Sum: [[11 22 33]\n",
            " [ 3  6  9]]\n",
            "\n",
            "Element-wise Multiplication: [[10 40 90]\n",
            " [ 2  8 18]]\n"
          ]
        }
      ]
    },
    {
      "cell_type": "code",
      "source": [
        "matrix = np.array([[1, 2, 3], [4, 5, 6]])\n",
        "print(\"\\n2D NumPy Matrix:\\n\", matrix)"
      ],
      "metadata": {
        "colab": {
          "base_uri": "https://localhost:8080/"
        },
        "id": "ANBltXHXZnyC",
        "outputId": "d3a5bf5f-dbee-42a8-96f6-dc5ec3d7f59a"
      },
      "execution_count": null,
      "outputs": [
        {
          "output_type": "stream",
          "name": "stdout",
          "text": [
            "\n",
            "2D NumPy Matrix:\n",
            " [[1 2 3]\n",
            " [4 5 6]]\n"
          ]
        }
      ]
    },
    {
      "cell_type": "markdown",
      "source": [
        "## Reshaping and Transposing\n",
        "### Reshape an array"
      ],
      "metadata": {
        "id": "-cG1MpMSI3zK"
      }
    },
    {
      "cell_type": "code",
      "source": [
        "reshaped_matrix = matrix.reshape(3, 2)\n",
        "print(\"\\nReshaped Matrix:\\n\", reshaped_matrix)"
      ],
      "metadata": {
        "id": "rUNiWsZEIDIE",
        "colab": {
          "base_uri": "https://localhost:8080/"
        },
        "outputId": "53e65ce3-84c1-4c0f-8378-fd993a6860bc"
      },
      "execution_count": null,
      "outputs": [
        {
          "output_type": "stream",
          "name": "stdout",
          "text": [
            "\n",
            "Reshaped Matrix:\n",
            " [[ 1  2]\n",
            " [ 3 11]\n",
            " [12 13]]\n"
          ]
        }
      ]
    },
    {
      "cell_type": "markdown",
      "source": [
        "### Transpose an array"
      ],
      "metadata": {
        "id": "UzGKH0hGI4kv"
      }
    },
    {
      "cell_type": "code",
      "source": [
        "transposed_matrix = matrix.T\n",
        "print(\"\\nTransposed Matrix:\\n\", transposed_matrix)"
      ],
      "metadata": {
        "id": "vArL9R6LIDFd",
        "colab": {
          "base_uri": "https://localhost:8080/"
        },
        "outputId": "dfcd742b-4d07-4962-a9ea-b9e2a79e4f82"
      },
      "execution_count": null,
      "outputs": [
        {
          "output_type": "stream",
          "name": "stdout",
          "text": [
            "\n",
            "Transposed Matrix:\n",
            " [[1 4]\n",
            " [2 5]\n",
            " [3 6]]\n"
          ]
        }
      ]
    },
    {
      "cell_type": "markdown",
      "source": [
        "## Random Number Generation"
      ],
      "metadata": {
        "id": "JflkimwBI8Lo"
      }
    },
    {
      "cell_type": "code",
      "source": [
        "random_array = np.random.rand(2, 4)  # 3x3 matrix with random values between 0 and 1\n",
        "print(\"\\nRandom Array:\\n\", random_array)"
      ],
      "metadata": {
        "id": "7AOLV2J9IDCf",
        "colab": {
          "base_uri": "https://localhost:8080/"
        },
        "outputId": "0c2584ed-64b4-4b6a-cf92-f0d79f69dfa4"
      },
      "execution_count": null,
      "outputs": [
        {
          "output_type": "stream",
          "name": "stdout",
          "text": [
            "\n",
            "Random Array:\n",
            " [[0.70798661 0.66615173 0.12745068 0.50421923]\n",
            " [0.48132989 0.24998303 0.19003588 0.29320338]]\n"
          ]
        }
      ]
    },
    {
      "cell_type": "markdown",
      "source": [
        "## Indexing and Slicing"
      ],
      "metadata": {
        "id": "j4pAoX-EI-D7"
      }
    },
    {
      "cell_type": "code",
      "source": [
        "print(\"\\nFirst element:\", matrix[0,2])\n",
        "print(\"\\nLast three elements:\", matrix[-1:,-2:])"
      ],
      "metadata": {
        "id": "ij106yHeIC_4",
        "colab": {
          "base_uri": "https://localhost:8080/"
        },
        "outputId": "b5b816f6-7ad8-4166-ab22-aea75a5b77c3"
      },
      "execution_count": null,
      "outputs": [
        {
          "output_type": "stream",
          "name": "stdout",
          "text": [
            "\n",
            "First element: 3\n",
            "\n",
            "Last three elements: [[5 6]]\n"
          ]
        }
      ]
    },
    {
      "cell_type": "markdown",
      "source": [
        "## Statistical Operations"
      ],
      "metadata": {
        "id": "sciMzdvrI-6O"
      }
    },
    {
      "cell_type": "code",
      "source": [
        "mean_value = np.mean(matrix)\n",
        "std_deviation = np.std(matrix)\n",
        "median_value = np.median(matrix)\n",
        "\n",
        "print(\"\\nMean:\", mean_value)\n",
        "print(\"\\nStandard Deviation:\", std_deviation)\n",
        "print(\"\\nMedian:\", median_value)"
      ],
      "metadata": {
        "id": "KNMY_EB9IWN9",
        "colab": {
          "base_uri": "https://localhost:8080/"
        },
        "outputId": "30e2a5ff-84e1-4de8-a45a-ca32a9e3cf5a"
      },
      "execution_count": null,
      "outputs": [
        {
          "output_type": "stream",
          "name": "stdout",
          "text": [
            "\n",
            "Mean: 3.5\n",
            "\n",
            "Standard Deviation: 1.707825127659933\n",
            "\n",
            "Median: 3.5\n"
          ]
        }
      ]
    }
  ]
}